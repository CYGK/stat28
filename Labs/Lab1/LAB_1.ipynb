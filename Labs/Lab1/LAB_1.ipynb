{
 "cells": [
  {
   "cell_type": "markdown",
   "metadata": {},
   "source": [
    "# STAT 28 LAB 1"
   ]
  },
  {
   "cell_type": "markdown",
   "metadata": {},
   "source": [
    "# Intro"
   ]
  },
  {
   "cell_type": "markdown",
   "metadata": {},
   "source": [
    "Welcome to the first lab of STAT 28! This lab is divided into two parts:\n",
    "\n",
    "In part I, you will go over basic R functions and expressions with comparisons between R and python usage. Please pay attention to the difference between two languages.\n",
    "\n",
    "In part II, You will use data sets from Data Science 8 to reproduce histograms and contingency tables. The goal is to recall some basic data exploratory analysis and help get you familiar with R.\n",
    "\n",
    "In this lab, chunks begin with %%R will execute R code while chunks without %%R will be python code.\n",
    "\n",
    "There are 9 exercises in this lab. Please complete the code chunks with dots (`...`)."
   ]
  },
  {
   "cell_type": "code",
   "execution_count": 1,
   "metadata": {
    "collapsed": false
   },
   "outputs": [],
   "source": [
    "# Run this cell to enble R in notebooks, this may take a while\n",
    "import readline\n",
    "%load_ext rpy2.ipython"
   ]
  },
  {
   "cell_type": "code",
   "execution_count": 2,
   "metadata": {
    "collapsed": false
   },
   "outputs": [],
   "source": [
    "%%R\n",
    "# Run this cell. Please do not modify the code\n",
    "library(testthat)"
   ]
  },
  {
   "cell_type": "markdown",
   "metadata": {},
   "source": [
    "# PART I: Instroduction to R"
   ]
  },
  {
   "cell_type": "markdown",
   "metadata": {},
   "source": [
    "## 1.1 Assigning values"
   ]
  },
  {
   "cell_type": "markdown",
   "metadata": {},
   "source": [
    "Notice that the assignment operator ```<-```, which consists of the two characters ```<``` (“less than”) and ```-``` (“minus”) occurring strictly side-by-side and it ‘points’ to the object receiving the value of the expression. In most  (not all) contexts, the ```=``` operator can be used as an alternative. We recommend ```<-``` as a standard usage to avoid mistakes.\n",
    "\n",
    "R expression is case sensitive, which means `A` and `a` are different symbols and would refer to different variables."
   ]
  },
  {
   "cell_type": "code",
   "execution_count": 3,
   "metadata": {
    "collapsed": false
   },
   "outputs": [
    {
     "data": {
      "text/plain": [
       "[1] 3\n",
       "[1] 3 7\n"
      ]
     },
     "metadata": {},
     "output_type": "display_data"
    }
   ],
   "source": [
    "%%R\n",
    "val <- 3\n",
    "print(val)\n",
    "\n",
    "Val <- 7 # case-sensitive!\n",
    "print(c(val, Val))"
   ]
  },
  {
   "cell_type": "markdown",
   "metadata": {},
   "source": [
    "## 1.2 Arithmetic Operators"
   ]
  },
  {
   "cell_type": "markdown",
   "metadata": {},
   "source": [
    "Let's first recall the arithmetic operators in Python."
   ]
  },
  {
   "cell_type": "code",
   "execution_count": 4,
   "metadata": {
    "collapsed": false
   },
   "outputs": [
    {
     "name": "stdout",
     "output_type": "stream",
     "text": [
      "5\n",
      "81\n",
      "81\n",
      "16.0\n",
      "1\n",
      "2.302585092994046\n",
      "7.38905609893065\n",
      "2\n",
      "6.283185307179586\n",
      "5000000000000\n",
      "5000000000000.0\n"
     ]
    }
   ],
   "source": [
    "import math\n",
    "import numpy as np\n",
    "\n",
    "print(2 + 3) # add numbers\n",
    "print(3**4) # powers\n",
    "print(pow(3, 4)) # powers\n",
    "print(math.sqrt(4**4)) # functions\n",
    "print(21 % 5) # 21 mod 5\n",
    "print(math.log(10)) # take log\n",
    "print(math.exp(2)) # exponential\n",
    "print(np.abs(-2)) # absolute value\n",
    "print(2*math.pi) # mathematical constant\n",
    "\n",
    "# scientific notation\n",
    "print(5000000000 * 1000)\n",
    "print(5e9 * 1e3)"
   ]
  },
  {
   "cell_type": "markdown",
   "metadata": {},
   "source": [
    "While in Python we import ```math``` or ```numpy``` packages to do calculation such square root and log, in R these are built-in functionalities and can be applied directly. "
   ]
  },
  {
   "cell_type": "code",
   "execution_count": 5,
   "metadata": {
    "collapsed": false
   },
   "outputs": [
    {
     "data": {
      "text/plain": [
       "[1] 5\n"
      ]
     },
     "metadata": {},
     "output_type": "display_data"
    }
   ],
   "source": [
    "%%R\n",
    "# add numbers\n",
    "2 + 3 "
   ]
  },
  {
   "cell_type": "code",
   "execution_count": 6,
   "metadata": {
    "collapsed": false
   },
   "outputs": [
    {
     "data": {
      "text/plain": [
       "[1] 81\n"
      ]
     },
     "metadata": {},
     "output_type": "display_data"
    }
   ],
   "source": [
    "%%R\n",
    "# powers\n",
    "3^4 "
   ]
  },
  {
   "cell_type": "code",
   "execution_count": 7,
   "metadata": {
    "collapsed": false
   },
   "outputs": [
    {
     "data": {
      "text/plain": [
       "[1] 16\n"
      ]
     },
     "metadata": {},
     "output_type": "display_data"
    }
   ],
   "source": [
    "%%R\n",
    "# square root\n",
    "sqrt(4^4) "
   ]
  },
  {
   "cell_type": "code",
   "execution_count": 8,
   "metadata": {
    "collapsed": false
   },
   "outputs": [
    {
     "data": {
      "text/plain": [
       "[1] 1\n"
      ]
     },
     "metadata": {},
     "output_type": "display_data"
    }
   ],
   "source": [
    "%%R\n",
    "# 21 mod 5\n",
    "21 %% 5 "
   ]
  },
  {
   "cell_type": "code",
   "execution_count": 9,
   "metadata": {
    "collapsed": false
   },
   "outputs": [
    {
     "data": {
      "text/plain": [
       "[1] 2.302585\n"
      ]
     },
     "metadata": {},
     "output_type": "display_data"
    }
   ],
   "source": [
    "%%R\n",
    "# take log\n",
    "log(10) "
   ]
  },
  {
   "cell_type": "code",
   "execution_count": 10,
   "metadata": {
    "collapsed": false
   },
   "outputs": [
    {
     "data": {
      "text/plain": [
       "[1] 7.389056\n"
      ]
     },
     "metadata": {},
     "output_type": "display_data"
    }
   ],
   "source": [
    "%%R\n",
    "# exponential\n",
    "exp(2) "
   ]
  },
  {
   "cell_type": "code",
   "execution_count": 11,
   "metadata": {
    "collapsed": false
   },
   "outputs": [
    {
     "data": {
      "text/plain": [
       "[1] 6.283185\n"
      ]
     },
     "metadata": {},
     "output_type": "display_data"
    }
   ],
   "source": [
    "%%R\n",
    "# mathematical constant\n",
    "2*pi "
   ]
  },
  {
   "cell_type": "code",
   "execution_count": 12,
   "metadata": {
    "collapsed": false
   },
   "outputs": [
    {
     "data": {
      "text/plain": [
       "[1] 2\n"
      ]
     },
     "metadata": {},
     "output_type": "display_data"
    }
   ],
   "source": [
    "%%R\n",
    "# absolute value\n",
    "abs(-2) "
   ]
  },
  {
   "cell_type": "code",
   "execution_count": 13,
   "metadata": {
    "collapsed": false
   },
   "outputs": [
    {
     "data": {
      "text/plain": [
       "[1] 5e+12\n"
      ]
     },
     "metadata": {},
     "output_type": "display_data"
    }
   ],
   "source": [
    "%%R\n",
    "# scientific notation\n",
    "5000000000 * 1000"
   ]
  },
  {
   "cell_type": "code",
   "execution_count": 14,
   "metadata": {
    "collapsed": false
   },
   "outputs": [
    {
     "data": {
      "text/plain": [
       "[1] 5e+12\n"
      ]
     },
     "metadata": {},
     "output_type": "display_data"
    }
   ],
   "source": [
    "%%R\n",
    "# scientific notation\n",
    "5e9 * 1e3"
   ]
  },
  {
   "cell_type": "markdown",
   "metadata": {},
   "source": [
    "** Exercise 1.** \n",
    "\n",
    "You've seen the probability density function of Normal distribution $N(\\mu, \\sigma^2)$ in DS8 as follows:\n",
    "$$\n",
    "\\frac{1}{\\sqrt{2\\sigma^2\\pi}}\\exp\\{-\\frac{(x - \\mu)^2}{2\\sigma^2}\\}\n",
    "$$\n",
    "Now let $\\mu = 1$, $\\sigma^2 = 2$, calculate the density at $X = 0$. Finish the chunk below."
   ]
  },
  {
   "cell_type": "code",
   "execution_count": 15,
   "metadata": {
    "collapsed": false
   },
   "outputs": [
    {
     "data": {
      "text/plain": [
       "[1] 0.2196956\n"
      ]
     },
     "metadata": {},
     "output_type": "display_data"
    }
   ],
   "source": [
    "%%R\n",
    "mu <- 1\n",
    "sig.sq <- 2\n",
    "x <- 0\n",
    "\n",
    "density <- ...\n",
    "density"
   ]
  },
  {
   "cell_type": "markdown",
   "metadata": {},
   "source": [
    "Run the cell blow to check your code. \n",
    "\n",
    "About the output: Dots shows that your code have passed the tests. \"F\" indicates test failure, and you might need to correct some errors in your code."
   ]
  },
  {
   "cell_type": "code",
   "execution_count": 16,
   "metadata": {
    "collapsed": false
   },
   "outputs": [
    {
     "data": {
      "text/plain": [
       "\u001b[32m.\u001b[39m\n"
      ]
     },
     "metadata": {},
     "output_type": "display_data"
    }
   ],
   "source": [
    "%%R\n",
    "test_dir(\"test/q1/\", reporter=\"minimal\")"
   ]
  },
  {
   "cell_type": "markdown",
   "metadata": {},
   "source": [
    "## 1.3 Relational operators and logical operators"
   ]
  },
  {
   "cell_type": "markdown",
   "metadata": {},
   "source": [
    "Now recall relational operators and logical operators in Python."
   ]
  },
  {
   "cell_type": "code",
   "execution_count": 17,
   "metadata": {
    "collapsed": false
   },
   "outputs": [
    {
     "name": "stdout",
     "output_type": "stream",
     "text": [
      "True\n",
      "False\n",
      "True\n",
      "False\n"
     ]
    }
   ],
   "source": [
    "print((1 > 0) and (3 <= 5))\n",
    "print((1 < 0) or (3 > 5))\n",
    "print((3 == 9/3) or (2 < 1) )\n",
    "print(not(2 != 4/3))"
   ]
  },
  {
   "cell_type": "markdown",
   "metadata": {},
   "source": [
    "The logical operations in R is very similar to python. The logical operators are <, <=, >, >=, == for exact equality and != for inequality. But `and`, `or`, `not`, is replaced by `&`, `|`, `!`.The boolean values True/False in Python correspond to TRUE/FALSE in R (Notice the case difference). "
   ]
  },
  {
   "cell_type": "code",
   "execution_count": 18,
   "metadata": {
    "collapsed": false
   },
   "outputs": [
    {
     "data": {
      "text/plain": [
       "[1] TRUE\n"
      ]
     },
     "metadata": {},
     "output_type": "display_data"
    }
   ],
   "source": [
    "%%R\n",
    "(1 > 0) & (3 <= 5)"
   ]
  },
  {
   "cell_type": "code",
   "execution_count": 19,
   "metadata": {
    "collapsed": false
   },
   "outputs": [
    {
     "data": {
      "text/plain": [
       "[1] FALSE\n"
      ]
     },
     "metadata": {},
     "output_type": "display_data"
    }
   ],
   "source": [
    "%%R\n",
    "(1 < 0) | (3 > 5)"
   ]
  },
  {
   "cell_type": "code",
   "execution_count": 20,
   "metadata": {
    "collapsed": false
   },
   "outputs": [
    {
     "data": {
      "text/plain": [
       "[1] TRUE\n"
      ]
     },
     "metadata": {},
     "output_type": "display_data"
    }
   ],
   "source": [
    "%%R\n",
    "(3 == 9/3) | (2 < 1) "
   ]
  },
  {
   "cell_type": "code",
   "execution_count": 21,
   "metadata": {
    "collapsed": false
   },
   "outputs": [
    {
     "data": {
      "text/plain": [
       "[1] FALSE\n"
      ]
     },
     "metadata": {},
     "output_type": "display_data"
    }
   ],
   "source": [
    "%%R\n",
    "!(2 != 4/3)"
   ]
  },
  {
   "cell_type": "markdown",
   "metadata": {},
   "source": [
    "** Exercise 2. ** \n",
    "\n",
    "Answer the following TRUE/FALSE question by calculation. \n",
    "- The density of $N(1, 2)$ is larger than the density of $N(0, 2)$ at $X=0$. Assign your TRUE/FALSE answer to variables result1.\n",
    "- The density of $N(1, 2)$ at $X=0$ is larger than 0.2 and less than 0.3. Assign your TRUE/FALSE answer to variables result2."
   ]
  },
  {
   "cell_type": "code",
   "execution_count": 22,
   "metadata": {
    "collapsed": false
   },
   "outputs": [
    {
     "data": {
      "text/plain": [
       "[1] FALSE\n"
      ]
     },
     "metadata": {},
     "output_type": "display_data"
    }
   ],
   "source": [
    "%%R\n",
    "mu1 <- 1\n",
    "mu2 <- 0\n",
    "sig.sq <- 2\n",
    "x <- 0\n",
    "\n",
    "density1 <- ...\n",
    "density2 <- ...\n",
    "\n",
    "result1 <- ...\n",
    "result1"
   ]
  },
  {
   "cell_type": "code",
   "execution_count": 23,
   "metadata": {
    "collapsed": false
   },
   "outputs": [
    {
     "data": {
      "text/plain": [
       "[1] TRUE\n"
      ]
     },
     "metadata": {},
     "output_type": "display_data"
    }
   ],
   "source": [
    "%%R\n",
    "result2 <- ...\n",
    "result2"
   ]
  },
  {
   "cell_type": "markdown",
   "metadata": {},
   "source": [
    "Run the cell blow to check your code. \n",
    "\n",
    "About the output: Dots shows that your code have passed the tests. \"F\" indicates test failure, and you might need to correct some errors in your code."
   ]
  },
  {
   "cell_type": "code",
   "execution_count": 24,
   "metadata": {
    "collapsed": false
   },
   "outputs": [
    {
     "data": {
      "text/plain": [
       "\u001b[32m.\u001b[39m\u001b[32m.\u001b[39m\n"
      ]
     },
     "metadata": {},
     "output_type": "display_data"
    }
   ],
   "source": [
    "%%R\n",
    "test_dir(\"test/q2/\", reporter=\"minimal\")"
   ]
  },
  {
   "cell_type": "markdown",
   "metadata": {},
   "source": [
    "## 1.4 Vectors"
   ]
  },
  {
   "cell_type": "markdown",
   "metadata": {},
   "source": [
    "There are several ways to create an vector in R."
   ]
  },
  {
   "cell_type": "code",
   "execution_count": 25,
   "metadata": {
    "collapsed": false
   },
   "outputs": [
    {
     "data": {
      "text/plain": [
       "[1]  0.125  4.750 -1.300\n"
      ]
     },
     "metadata": {},
     "output_type": "display_data"
    }
   ],
   "source": [
    "%%R\n",
    "# set up a vector\n",
    "a <- c(0.125, 4.75, -1.3)\n",
    "a"
   ]
  },
  {
   "cell_type": "code",
   "execution_count": 26,
   "metadata": {
    "collapsed": false
   },
   "outputs": [
    {
     "data": {
      "text/plain": [
       "[0.125, 4.75, -1.3]"
      ]
     },
     "execution_count": 26,
     "metadata": {},
     "output_type": "execute_result"
    }
   ],
   "source": [
    "# A comparison: create a list of numbers in python\n",
    "a = [0.125, 4.75, -1.3]\n",
    "a"
   ]
  },
  {
   "cell_type": "code",
   "execution_count": 27,
   "metadata": {
    "collapsed": false
   },
   "outputs": [
    {
     "data": {
      "text/plain": [
       "array([ 0.125,  4.75 , -1.3  ])"
      ]
     },
     "execution_count": 27,
     "metadata": {},
     "output_type": "execute_result"
    }
   ],
   "source": [
    "# A comparison: create a numpy array\n",
    "a1 = np.array([0.125, 4.75, -1.3])\n",
    "a1"
   ]
  },
  {
   "cell_type": "code",
   "execution_count": 28,
   "metadata": {
    "collapsed": false
   },
   "outputs": [
    {
     "data": {
      "text/plain": [
       "[1]  0.000000  1.000000 -1.000000  3.141593  2.718282\n"
      ]
     },
     "metadata": {},
     "output_type": "display_data"
    }
   ],
   "source": [
    "%%R\n",
    "# set up a vector\n",
    "b <- c(0, 1, -1, pi, exp(1))\n",
    "b"
   ]
  },
  {
   "cell_type": "code",
   "execution_count": 29,
   "metadata": {
    "collapsed": false
   },
   "outputs": [
    {
     "data": {
      "text/plain": [
       "[1]  0.125000  4.750000 -1.300000  0.000000  1.000000 -1.000000  3.141593\n",
       "[8]  2.718282\n"
      ]
     },
     "metadata": {},
     "output_type": "display_data"
    }
   ],
   "source": [
    "%%R\n",
    "# combine two vectors\n",
    "ab <- c(a, b)\n",
    "ab"
   ]
  },
  {
   "cell_type": "code",
   "execution_count": 30,
   "metadata": {
    "collapsed": false
   },
   "outputs": [
    {
     "name": "stdout",
     "output_type": "stream",
     "text": [
      "[[0.125, 4.75, -1.3], [0, 1, -1, 3.141592653589793, 2.718281828459045]]\n",
      "[ 0.125       4.75       -1.3         0.          1.         -1.\n",
      "  3.14159265  2.71828183]\n"
     ]
    }
   ],
   "source": [
    "# A comparison: combine two vectors in python\n",
    "a = [0.125, 4.75, -1.3]\n",
    "b = [0, 1, -1, math.pi, math.e]\n",
    "print([a, b])\n",
    "print(np.concatenate((a,b)))"
   ]
  },
  {
   "cell_type": "code",
   "execution_count": 31,
   "metadata": {
    "collapsed": false
   },
   "outputs": [
    {
     "data": {
      "text/plain": [
       "[1]  TRUE FALSE  TRUE\n"
      ]
     },
     "metadata": {},
     "output_type": "display_data"
    }
   ],
   "source": [
    "%%R\n",
    "# boolean vectors\n",
    "bools <- c(TRUE, FALSE, TRUE)\n",
    "bools"
   ]
  },
  {
   "cell_type": "code",
   "execution_count": 32,
   "metadata": {
    "collapsed": false
   },
   "outputs": [
    {
     "data": {
      "text/plain": [
       "[1] \"Hello\" \",\"     \" \"     \"world\" \"!\"    \n"
      ]
     },
     "metadata": {},
     "output_type": "display_data"
    }
   ],
   "source": [
    "%%R\n",
    "# vectors consists of strings\n",
    "c <- c(\"Hello\", \",\", \" \", \"world\", \"!\")\n",
    "c"
   ]
  },
  {
   "cell_type": "code",
   "execution_count": 33,
   "metadata": {
    "collapsed": false
   },
   "outputs": [
    {
     "data": {
      "text/plain": [
       "Hello ,   world !"
      ]
     },
     "metadata": {},
     "output_type": "display_data"
    }
   ],
   "source": [
    "%%R\n",
    "# Outputs the vectors with concatenation\n",
    "cat(c)"
   ]
  },
  {
   "cell_type": "code",
   "execution_count": 34,
   "metadata": {
    "collapsed": false
   },
   "outputs": [
    {
     "data": {
      "text/plain": [
       "[1] 4 5 6 7 8 9\n"
      ]
     },
     "metadata": {},
     "output_type": "display_data"
    }
   ],
   "source": [
    "%%R\n",
    "# generate regular sequences\n",
    "seq1 <- seq(from=4, to=9, by=1)\n",
    "seq1 # Notice the output difference with np.arange"
   ]
  },
  {
   "cell_type": "markdown",
   "metadata": {},
   "source": [
    "Here `seq` is a function for sequence generation. Usually it has three parameters: `from`, `to`, and `by`, which stands for the starting value, ending value and increment of the sequence.\n",
    "\n",
    "However, more parameter is available for this function. R provide easy accessible documents to search for help for functions, datasets and packages. Before asking others for help, it will always be helpful to read the documents. Documentation for a function usually includes description, usages, arguments and examples. For example, there are two ways to access the document of the function ```seq```: ```?seq``` and ```help(seq)```.\n",
    "\n",
    "And when you write parameters in order for functions with multiple parameters, the parameter names can be omitted. For example, `seq1` can also be created as follows:"
   ]
  },
  {
   "cell_type": "code",
   "execution_count": 35,
   "metadata": {
    "collapsed": false
   },
   "outputs": [
    {
     "data": {
      "text/plain": [
       "[1] 4 5 6 7 8 9\n"
      ]
     },
     "metadata": {},
     "output_type": "display_data"
    }
   ],
   "source": [
    "%%R\n",
    "# generate regular sequences, parameter name omitted\n",
    "seq1 <- seq(4, 9, 1)\n",
    "seq1"
   ]
  },
  {
   "cell_type": "code",
   "execution_count": 36,
   "metadata": {
    "collapsed": false
   },
   "outputs": [
    {
     "data": {
      "text/plain": [
       "array([4, 5, 6, 7, 8])"
      ]
     },
     "execution_count": 36,
     "metadata": {},
     "output_type": "execute_result"
    }
   ],
   "source": [
    "# Notice the output is different from using python\n",
    "d = np.arange(4, 9, 1)\n",
    "d"
   ]
  },
  {
   "cell_type": "markdown",
   "metadata": {},
   "source": [
    "You may write function `seq(from=a, to=b, by=1)` as `a:b`."
   ]
  },
  {
   "cell_type": "code",
   "execution_count": 37,
   "metadata": {
    "collapsed": false
   },
   "outputs": [
    {
     "data": {
      "text/plain": [
       "[1] 1 2 3 4 5 6\n"
      ]
     },
     "metadata": {},
     "output_type": "display_data"
    }
   ],
   "source": [
    "%%R\n",
    "# generate regular sequences\n",
    "seq2 <- 1:6\n",
    "seq2"
   ]
  },
  {
   "cell_type": "code",
   "execution_count": 38,
   "metadata": {
    "collapsed": false
   },
   "outputs": [
    {
     "data": {
      "text/plain": [
       "[1]  1.1  3.1  5.1  7.1  9.1 11.1\n"
      ]
     },
     "metadata": {},
     "output_type": "display_data"
    }
   ],
   "source": [
    "%%R\n",
    "seq3 <- seq(1.1, 11.1, by = 2)\n",
    "seq3"
   ]
  },
  {
   "cell_type": "markdown",
   "metadata": {},
   "source": [
    "To replicate an object, we usually use `rep` as follows. To find out the parameters names and usage, please check the help document yourself."
   ]
  },
  {
   "cell_type": "code",
   "execution_count": 39,
   "metadata": {
    "collapsed": false
   },
   "outputs": [
    {
     "data": {
      "text/plain": [
       "[1] 4 4 4 4 4 4\n"
      ]
     },
     "metadata": {},
     "output_type": "display_data"
    }
   ],
   "source": [
    "%%R\n",
    "# replicate an object\n",
    "seq4 <- rep(4, 6)\n",
    "seq4"
   ]
  },
  {
   "cell_type": "code",
   "execution_count": 40,
   "metadata": {
    "collapsed": false
   },
   "outputs": [
    {
     "data": {
      "text/plain": [
       " [1] 1 2 1 2 1 2 1 2 1 2\n"
      ]
     },
     "metadata": {},
     "output_type": "display_data"
    }
   ],
   "source": [
    "%%R\n",
    "# replicate an object\n",
    "seq5 <- rep(1:2, 5)\n",
    "seq5"
   ]
  },
  {
   "cell_type": "code",
   "execution_count": 41,
   "metadata": {
    "collapsed": false
   },
   "outputs": [
    {
     "data": {
      "text/plain": [
       " [1] 1 1 1 1 1 2 2 2 2 2\n"
      ]
     },
     "metadata": {},
     "output_type": "display_data"
    }
   ],
   "source": [
    "%%R\n",
    "# replicate an object\n",
    "seq5 <- rep(1:2, each = 5)\n",
    "seq5"
   ]
  },
  {
   "cell_type": "markdown",
   "metadata": {},
   "source": [
    "## 1.5 Vectorized calculation"
   ]
  },
  {
   "cell_type": "markdown",
   "metadata": {},
   "source": [
    "In R, vectorization is a quick and efficient in terms of improving running time. When for loop and vectorization is both available, the vectorization method would usually take significantly less time to run. Operations are done element-wise in cases where at least one operand is a vector.\n",
    "\n",
    "For those that are familiar with vector operations this means that `x*y` for vectors is NOT the inner product, but element wise, and ditto for matrices. Let $x = (x_1, x_2, \\cdots, x_n)$, $y = (y_1, y_2, \\cdots, y_n)$, `x*y` will return $(x_1*y_1, x_2*y_2, \\cdots, x_n*y_n)$. And it's similar for other operators."
   ]
  },
  {
   "cell_type": "code",
   "execution_count": 42,
   "metadata": {
    "collapsed": true
   },
   "outputs": [],
   "source": [
    "%%R\n",
    "vec1 <- 1:5\n",
    "vec2 <- seq(0.1, 0.5, by = 0.1)"
   ]
  },
  {
   "cell_type": "code",
   "execution_count": 43,
   "metadata": {
    "collapsed": false
   },
   "outputs": [
    {
     "data": {
      "text/plain": [
       "[1] 1.1 2.2 3.3 4.4 5.5\n"
      ]
     },
     "metadata": {},
     "output_type": "display_data"
    }
   ],
   "source": [
    "%%R\n",
    "vec1 + vec2"
   ]
  },
  {
   "cell_type": "code",
   "execution_count": 44,
   "metadata": {
    "collapsed": false
   },
   "outputs": [
    {
     "data": {
      "text/plain": [
       "[1] 0.10000 0.04000 0.02700 0.02560 0.03125\n"
      ]
     },
     "metadata": {},
     "output_type": "display_data"
    }
   ],
   "source": [
    "%%R\n",
    "vec2^vec1"
   ]
  },
  {
   "cell_type": "code",
   "execution_count": 45,
   "metadata": {
    "collapsed": false
   },
   "outputs": [
    {
     "data": {
      "text/plain": [
       "[1] TRUE TRUE TRUE TRUE TRUE\n"
      ]
     },
     "metadata": {},
     "output_type": "display_data"
    }
   ],
   "source": [
    "%%R\n",
    "vec1 > vec2"
   ]
  },
  {
   "cell_type": "code",
   "execution_count": 46,
   "metadata": {
    "collapsed": false
   },
   "outputs": [
    {
     "data": {
      "text/plain": [
       "[1] FALSE FALSE  TRUE  TRUE FALSE\n"
      ]
     },
     "metadata": {},
     "output_type": "display_data"
    }
   ],
   "source": [
    "%%R\n",
    "vec1 < 5 & vec2 > 0.3"
   ]
  },
  {
   "cell_type": "code",
   "execution_count": 47,
   "metadata": {
    "collapsed": false
   },
   "outputs": [
    {
     "data": {
      "text/plain": [
       "[1] TRUE TRUE TRUE TRUE TRUE\n"
      ]
     },
     "metadata": {},
     "output_type": "display_data"
    }
   ],
   "source": [
    "%%R\n",
    "vec1 < 5 | vec2 > 0.3"
   ]
  },
  {
   "cell_type": "markdown",
   "metadata": {},
   "source": [
    "** Exercise 3. **\n",
    "\n",
    "Create the following vectors.\n",
    "- a) vec1 = (20, 18, $\\cdots$, 2, 0)"
   ]
  },
  {
   "cell_type": "code",
   "execution_count": 48,
   "metadata": {
    "collapsed": false
   },
   "outputs": [
    {
     "data": {
      "text/plain": [
       " [1] 20 18 16 14 12 10  8  6  4  2  0\n"
      ]
     },
     "metadata": {},
     "output_type": "display_data"
    }
   ],
   "source": [
    "%%R\n",
    "vec1 <- ...\n",
    "vec1"
   ]
  },
  {
   "cell_type": "markdown",
   "metadata": {},
   "source": [
    "- b) vec2 = $(2, \\frac{2^2}{2}, \\frac{2^3}{3}, \\cdots, \\frac{2^{10}}{10})$"
   ]
  },
  {
   "cell_type": "code",
   "execution_count": 49,
   "metadata": {
    "collapsed": false
   },
   "outputs": [
    {
     "data": {
      "text/plain": [
       " [1]   2.000000   2.000000   2.666667   4.000000   6.400000  10.666667\n",
       " [7]  18.285714  32.000000  56.888889 102.400000\n"
      ]
     },
     "metadata": {},
     "output_type": "display_data"
    }
   ],
   "source": [
    "%%R\n",
    "vec2 <- ...\n",
    "vec2"
   ]
  },
  {
   "cell_type": "markdown",
   "metadata": {},
   "source": [
    "- c) vec3 = A True/False vector indicating which element in vec2 is larger than 10 and less than 50."
   ]
  },
  {
   "cell_type": "code",
   "execution_count": 50,
   "metadata": {
    "collapsed": false
   },
   "outputs": [
    {
     "data": {
      "text/plain": [
       " [1] FALSE FALSE FALSE FALSE FALSE  TRUE  TRUE  TRUE FALSE FALSE\n"
      ]
     },
     "metadata": {},
     "output_type": "display_data"
    }
   ],
   "source": [
    "%%R\n",
    "vec3 <- ...\n",
    "vec3"
   ]
  },
  {
   "cell_type": "markdown",
   "metadata": {},
   "source": [
    "- d) vec4 = $(2, 4, 5, 2, 4, 5, \\cdots, 2, 4, 5, 2)$, where there are 11 occurrences of 2 and 10 occurrences of 4 and 5."
   ]
  },
  {
   "cell_type": "code",
   "execution_count": 51,
   "metadata": {
    "collapsed": false
   },
   "outputs": [
    {
     "data": {
      "text/plain": [
       " [1] 2 4 5 2 4 5 2 4 5 2 4 5 2 4 5 2 4 5 2 4 5 2 4 5 2 4 5 2 4 5 2\n"
      ]
     },
     "metadata": {},
     "output_type": "display_data"
    }
   ],
   "source": [
    "%%R\n",
    "vec4 <- ...\n",
    "vec4"
   ]
  },
  {
   "cell_type": "markdown",
   "metadata": {},
   "source": [
    "- e) vec5 = (1, 1,..., 1, 2, 2, ..., 2, ..., 10, 10, ..., 10) where there are 5 occurrences of each number from 1 to 10."
   ]
  },
  {
   "cell_type": "code",
   "execution_count": 52,
   "metadata": {
    "collapsed": false
   },
   "outputs": [
    {
     "data": {
      "text/plain": [
       " [1]  1  1  1  1  1  2  2  2  2  2  3  3  3  3  3  4  4  4  4  4  5  5  5  5  5\n",
       "[26]  6  6  6  6  6  7  7  7  7  7  8  8  8  8  8  9  9  9  9  9 10 10 10 10 10\n"
      ]
     },
     "metadata": {},
     "output_type": "display_data"
    }
   ],
   "source": [
    "%%R\n",
    "vec5 <- ...\n",
    "vec5"
   ]
  },
  {
   "cell_type": "markdown",
   "metadata": {},
   "source": [
    "Run the cell blow to check your code. \n",
    "\n",
    "About the output: Dots shows that your code have passed the tests. \"F\" indicates test failure, and you might need to correct some errors in your code."
   ]
  },
  {
   "cell_type": "code",
   "execution_count": 53,
   "metadata": {
    "collapsed": false
   },
   "outputs": [
    {
     "data": {
      "text/plain": [
       "vec1: \u001b[32m.\u001b[39m\n",
       "vec2: \u001b[32m.\u001b[39m\n",
       "vec3: \u001b[32m.\u001b[39m\n",
       "vec4: \u001b[32m.\u001b[39m\n",
       "vec5: \u001b[32m.\u001b[39m\n"
      ]
     },
     "metadata": {},
     "output_type": "display_data"
    }
   ],
   "source": [
    "%%R\n",
    "test_dir(\"test/q3/\", reporter=\"minimal\")"
   ]
  },
  {
   "cell_type": "markdown",
   "metadata": {},
   "source": [
    "## 1.6 Indexing and subsetting"
   ]
  },
  {
   "cell_type": "markdown",
   "metadata": {},
   "source": [
    "Python and R have some difference in indexing which should be taken care of. Let's use a integer vector example to show the differences. "
   ]
  },
  {
   "cell_type": "code",
   "execution_count": 54,
   "metadata": {
    "collapsed": false
   },
   "outputs": [
    {
     "data": {
      "text/plain": [
       " [1]  1  2  3  4  5  6  7  8  9 10\n"
      ]
     },
     "metadata": {},
     "output_type": "display_data"
    }
   ],
   "source": [
    "%%R\n",
    "# generate a vector\n",
    "vector1 <- 1:10\n",
    "vector1"
   ]
  },
  {
   "cell_type": "code",
   "execution_count": 55,
   "metadata": {
    "collapsed": false
   },
   "outputs": [
    {
     "data": {
      "text/plain": [
       "array([ 1,  2,  3,  4,  5,  6,  7,  8,  9, 10])"
      ]
     },
     "execution_count": 55,
     "metadata": {},
     "output_type": "execute_result"
    }
   ],
   "source": [
    "# python: generate a vector\n",
    "import numpy as np\n",
    "vector2 = np.arange(1, 11)\n",
    "vector2"
   ]
  },
  {
   "cell_type": "markdown",
   "metadata": {},
   "source": [
    "- R starts at 1 while Python starts at 0."
   ]
  },
  {
   "cell_type": "code",
   "execution_count": 56,
   "metadata": {
    "collapsed": false
   },
   "outputs": [
    {
     "data": {
      "text/plain": [
       "[1] 1\n"
      ]
     },
     "metadata": {},
     "output_type": "display_data"
    }
   ],
   "source": [
    "%%R\n",
    "# the first element\n",
    "vector1[1]"
   ]
  },
  {
   "cell_type": "code",
   "execution_count": 57,
   "metadata": {
    "collapsed": false
   },
   "outputs": [
    {
     "data": {
      "text/plain": [
       "1"
      ]
     },
     "execution_count": 57,
     "metadata": {},
     "output_type": "execute_result"
    }
   ],
   "source": [
    "# python: the first element\n",
    "vector2[0]"
   ]
  },
  {
   "cell_type": "markdown",
   "metadata": {},
   "source": [
    "- Python supports negative indexing. For example, `somevector[-1]` refers to the last element of the vector. However, negative index in R returns the vector with indicated elements DELETED."
   ]
  },
  {
   "cell_type": "code",
   "execution_count": 58,
   "metadata": {
    "collapsed": false
   },
   "outputs": [
    {
     "data": {
      "text/plain": [
       "[1]  2  3  4  5  6  7  8  9 10\n"
      ]
     },
     "metadata": {},
     "output_type": "display_data"
    }
   ],
   "source": [
    "%%R\n",
    "# vector1 without the first element\n",
    "vector1[-1]"
   ]
  },
  {
   "cell_type": "code",
   "execution_count": 59,
   "metadata": {
    "collapsed": false
   },
   "outputs": [
    {
     "data": {
      "text/plain": [
       "10"
      ]
     },
     "execution_count": 59,
     "metadata": {},
     "output_type": "execute_result"
    }
   ],
   "source": [
    "# python: negative indexing\n",
    "vector2[-1]"
   ]
  },
  {
   "cell_type": "markdown",
   "metadata": {},
   "source": [
    "- When subsettting an vector using a:b, R subsets b-a+1 elements while Python takes out b-a elements."
   ]
  },
  {
   "cell_type": "code",
   "execution_count": 60,
   "metadata": {
    "collapsed": false
   },
   "outputs": [
    {
     "data": {
      "text/plain": [
       "[1] 3 4 5 6\n"
      ]
     },
     "metadata": {},
     "output_type": "display_data"
    }
   ],
   "source": [
    "%%R\n",
    "# subsetting\n",
    "vector1[3:6]"
   ]
  },
  {
   "cell_type": "code",
   "execution_count": 61,
   "metadata": {
    "collapsed": false
   },
   "outputs": [
    {
     "data": {
      "text/plain": [
       "array([3, 4, 5, 6])"
      ]
     },
     "execution_count": 61,
     "metadata": {},
     "output_type": "execute_result"
    }
   ],
   "source": [
    "# python: subsetting\n",
    "vector2[2:6]"
   ]
  },
  {
   "cell_type": "markdown",
   "metadata": {},
   "source": [
    "You can subset using integer vectors or boolean vectors as well."
   ]
  },
  {
   "cell_type": "code",
   "execution_count": 62,
   "metadata": {
    "collapsed": false
   },
   "outputs": [
    {
     "data": {
      "text/plain": [
       "[1] 1 5\n"
      ]
     },
     "metadata": {},
     "output_type": "display_data"
    }
   ],
   "source": [
    "%%R\n",
    "# subsetting using integer vectors, noting (1, 5) here indicating the index instead of the values.\n",
    "vector1[c(1, 5)]"
   ]
  },
  {
   "cell_type": "code",
   "execution_count": 63,
   "metadata": {
    "collapsed": false
   },
   "outputs": [
    {
     "data": {
      "text/plain": [
       "array([1, 5])"
      ]
     },
     "execution_count": 63,
     "metadata": {},
     "output_type": "execute_result"
    }
   ],
   "source": [
    "# python: subsetting using integer vectors\n",
    "vector2[[0, 4]]"
   ]
  },
  {
   "cell_type": "code",
   "execution_count": 64,
   "metadata": {
    "collapsed": false
   },
   "outputs": [
    {
     "data": {
      "text/plain": [
       "[1]  2  3  4  6  7  8  9 10\n"
      ]
     },
     "metadata": {},
     "output_type": "display_data"
    }
   ],
   "source": [
    "%%R\n",
    "# subsetting, noting (1, 5) here indicating the index instead of the values.\n",
    "vector1[-c(1, 5)]"
   ]
  },
  {
   "cell_type": "code",
   "execution_count": 65,
   "metadata": {
    "collapsed": false
   },
   "outputs": [
    {
     "data": {
      "text/plain": [
       "[1]  1  2  3  7  8  9 10\n"
      ]
     },
     "metadata": {},
     "output_type": "display_data"
    }
   ],
   "source": [
    "%%R\n",
    "# indexing using boolean operators\n",
    "vector1[c(rep(TRUE, 3), rep(FALSE, 3), rep(TRUE, 4))]"
   ]
  },
  {
   "cell_type": "code",
   "execution_count": 66,
   "metadata": {
    "collapsed": false
   },
   "outputs": [
    {
     "data": {
      "text/plain": [
       "[1]  6  7  8  9 10\n"
      ]
     },
     "metadata": {},
     "output_type": "display_data"
    }
   ],
   "source": [
    "%%R\n",
    "# indexing using boolean operators\n",
    "vector1[vector1 > 5]"
   ]
  },
  {
   "cell_type": "code",
   "execution_count": 67,
   "metadata": {
    "collapsed": false
   },
   "outputs": [
    {
     "name": "stdout",
     "output_type": "stream",
     "text": [
      "[ 6  7  8  9 10]\n"
     ]
    }
   ],
   "source": [
    "# python: indexing using boolean operators\n",
    "vector2[np.array([ True, True, True, False, False, False, True, True, True, True])]\n",
    "print(vector2[vector2 > 5])"
   ]
  },
  {
   "cell_type": "markdown",
   "metadata": {},
   "source": [
    "The same indexing method works when assigning values to a subset of the vector."
   ]
  },
  {
   "cell_type": "code",
   "execution_count": 68,
   "metadata": {
    "collapsed": false
   },
   "outputs": [
    {
     "data": {
      "text/plain": [
       " [1]  5  2  8  8  8  8  7  8  9 10\n"
      ]
     },
     "metadata": {},
     "output_type": "display_data"
    }
   ],
   "source": [
    "%%R\n",
    "vector1 <- 1:10\n",
    "vector1[1] <- 5\n",
    "vector1[3:6] <- c(8, 8, 8, 8)\n",
    "vector1"
   ]
  },
  {
   "cell_type": "markdown",
   "metadata": {},
   "source": [
    "A comparison: indexing in Python (equivalent expression as R example above)."
   ]
  },
  {
   "cell_type": "code",
   "execution_count": 69,
   "metadata": {
    "collapsed": false
   },
   "outputs": [
    {
     "name": "stdout",
     "output_type": "stream",
     "text": [
      "[ 5  2  8  8  8  8  7  8  9 10]\n"
     ]
    }
   ],
   "source": [
    "vector2[0] = 5\n",
    "vector2[2:6] = [8, 8, 8, 8]\n",
    "print(vector2)"
   ]
  },
  {
   "cell_type": "markdown",
   "metadata": {},
   "source": [
    "## 1.7 Some basic functions in R"
   ]
  },
  {
   "cell_type": "markdown",
   "metadata": {},
   "source": [
    "We introduce several useful functions in R. "
   ]
  },
  {
   "cell_type": "markdown",
   "metadata": {},
   "source": [
    "- a) Random sampling."
   ]
  },
  {
   "cell_type": "code",
   "execution_count": 70,
   "metadata": {
    "collapsed": true
   },
   "outputs": [],
   "source": [
    "%%R\n",
    "# random sample 10 number from integers 1 to 10.\n",
    "# WITH replacement\n",
    "samples <- sample(1:100, 100, replace = TRUE)\n",
    "# WITHOUT replacement\n",
    "sample.withoutrep <- sample(1:100, 100)"
   ]
  },
  {
   "cell_type": "markdown",
   "metadata": {},
   "source": [
    "- b) The length of a vector."
   ]
  },
  {
   "cell_type": "code",
   "execution_count": 71,
   "metadata": {
    "collapsed": false
   },
   "outputs": [
    {
     "data": {
      "text/plain": [
       "[1] 100\n"
      ]
     },
     "metadata": {},
     "output_type": "display_data"
    }
   ],
   "source": [
    "%%R\n",
    "length(samples)"
   ]
  },
  {
   "cell_type": "markdown",
   "metadata": {},
   "source": [
    "- c) Summarize data: `max`, `min`, `mean`, `median`, `var`, `sum`."
   ]
  },
  {
   "cell_type": "code",
   "execution_count": 72,
   "metadata": {
    "collapsed": false
   },
   "outputs": [
    {
     "data": {
      "text/plain": [
       "[1] 99\n"
      ]
     },
     "metadata": {},
     "output_type": "display_data"
    }
   ],
   "source": [
    "%%R\n",
    "# Maximum\n",
    "max(samples)"
   ]
  },
  {
   "cell_type": "code",
   "execution_count": 73,
   "metadata": {
    "collapsed": false
   },
   "outputs": [
    {
     "data": {
      "text/plain": [
       "[1] 1\n"
      ]
     },
     "metadata": {},
     "output_type": "display_data"
    }
   ],
   "source": [
    "%%R\n",
    "# Minimum\n",
    "min(samples)"
   ]
  },
  {
   "cell_type": "code",
   "execution_count": 74,
   "metadata": {
    "collapsed": false
   },
   "outputs": [
    {
     "data": {
      "text/plain": [
       "[1] 45.12\n"
      ]
     },
     "metadata": {},
     "output_type": "display_data"
    }
   ],
   "source": [
    "%%R\n",
    "# Mean(average)\n",
    "mean(samples)"
   ]
  },
  {
   "cell_type": "code",
   "execution_count": 75,
   "metadata": {
    "collapsed": false
   },
   "outputs": [
    {
     "data": {
      "text/plain": [
       "[1] 46\n"
      ]
     },
     "metadata": {},
     "output_type": "display_data"
    }
   ],
   "source": [
    "%%R\n",
    "# Median\n",
    "median(samples)"
   ]
  },
  {
   "cell_type": "code",
   "execution_count": 76,
   "metadata": {
    "collapsed": false
   },
   "outputs": [
    {
     "data": {
      "text/plain": [
       "[1] 836.2885\n"
      ]
     },
     "metadata": {},
     "output_type": "display_data"
    }
   ],
   "source": [
    "%%R\n",
    "# Variance\n",
    "var(samples)"
   ]
  },
  {
   "cell_type": "code",
   "execution_count": 77,
   "metadata": {
    "collapsed": false
   },
   "outputs": [
    {
     "data": {
      "text/plain": [
       "[1] 4512\n"
      ]
     },
     "metadata": {},
     "output_type": "display_data"
    }
   ],
   "source": [
    "%%R\n",
    "# Sum\n",
    "sum(samples)"
   ]
  },
  {
   "cell_type": "markdown",
   "metadata": {},
   "source": [
    "## 1.8 Factors"
   ]
  },
  {
   "cell_type": "markdown",
   "metadata": {},
   "source": [
    "Factors in R are vectors storing categorical variable. It is very important for summarizing information and plot. Both numeric and character variables can be made into factors by function `factor`."
   ]
  },
  {
   "cell_type": "code",
   "execution_count": 78,
   "metadata": {
    "collapsed": false
   },
   "outputs": [
    {
     "data": {
      "text/plain": [
       " [1] 3 2 3 2 1 3 2 3 1 1 2\n"
      ]
     },
     "metadata": {},
     "output_type": "display_data"
    }
   ],
   "source": [
    "%%R\n",
    "# Create numeric variable\n",
    "vec1 <- c(3, 2, 3, 2, 1, 3, 2, 3, 1, 1, 2)\n",
    "vec1"
   ]
  },
  {
   "cell_type": "code",
   "execution_count": 79,
   "metadata": {
    "collapsed": false
   },
   "outputs": [
    {
     "data": {
      "text/plain": [
       " [1] 3 2 3 2 1 3 2 3 1 1 2\n",
       "Levels: 1 2 3\n"
      ]
     },
     "metadata": {},
     "output_type": "display_data"
    }
   ],
   "source": [
    "%%R\n",
    "# Create a factor vector\n",
    "vec1.fac <- factor(vec1)\n",
    "vec1.fac"
   ]
  },
  {
   "cell_type": "code",
   "execution_count": 80,
   "metadata": {
    "collapsed": false
   },
   "outputs": [
    {
     "data": {
      "text/plain": [
       " [1] \"Fri\"  \"Thur\" \"Mon\"  \"Tue\"  \"Wed\"  \"Thur\" \"Mon\"  \"Mon\"  \"Tue\"  \"Wed\" \n",
       "[11] \"Wed\"  \"Tue\"  \"Fri\" \n"
      ]
     },
     "metadata": {},
     "output_type": "display_data"
    }
   ],
   "source": [
    "%%R\n",
    "# Create character variable\n",
    "vec2 <- c('Fri', 'Thur', 'Mon', 'Tue', 'Wed', 'Thur', 'Mon', 'Mon', 'Tue', 'Wed', 'Wed', 'Tue', 'Fri')\n",
    "vec2"
   ]
  },
  {
   "cell_type": "code",
   "execution_count": 81,
   "metadata": {
    "collapsed": false
   },
   "outputs": [
    {
     "data": {
      "text/plain": [
       " [1] Fri  Thur Mon  Tue  Wed  Thur Mon  Mon  Tue  Wed  Wed  Tue  Fri \n",
       "Levels: Fri Mon Thur Tue Wed\n"
      ]
     },
     "metadata": {},
     "output_type": "display_data"
    }
   ],
   "source": [
    "%%R\n",
    "# Create a factor vector\n",
    "vec2.fac <- factor(vec2)\n",
    "vec2.fac"
   ]
  },
  {
   "cell_type": "markdown",
   "metadata": {},
   "source": [
    "We can check the levels this way:"
   ]
  },
  {
   "cell_type": "code",
   "execution_count": 82,
   "metadata": {
    "collapsed": false
   },
   "outputs": [
    {
     "data": {
      "text/plain": [
       "[1] \"1\" \"2\" \"3\"\n"
      ]
     },
     "metadata": {},
     "output_type": "display_data"
    }
   ],
   "source": [
    "%%R\n",
    "levels(vec1.fac)"
   ]
  },
  {
   "cell_type": "code",
   "execution_count": 83,
   "metadata": {
    "collapsed": false
   },
   "outputs": [
    {
     "data": {
      "text/plain": [
       "[1] \"Fri\"  \"Mon\"  \"Thur\" \"Tue\"  \"Wed\" \n"
      ]
     },
     "metadata": {},
     "output_type": "display_data"
    }
   ],
   "source": [
    "%%R\n",
    "levels(vec2.fac)"
   ]
  },
  {
   "cell_type": "markdown",
   "metadata": {},
   "source": [
    "To count the number of occurrence of each level, we use function `table`."
   ]
  },
  {
   "cell_type": "code",
   "execution_count": 84,
   "metadata": {
    "collapsed": false
   },
   "outputs": [
    {
     "data": {
      "text/plain": [
       "vec1.fac\n",
       "1 2 3 \n",
       "3 4 4 \n"
      ]
     },
     "metadata": {},
     "output_type": "display_data"
    }
   ],
   "source": [
    "%%R\n",
    "table(vec1.fac)"
   ]
  },
  {
   "cell_type": "code",
   "execution_count": 85,
   "metadata": {
    "collapsed": false
   },
   "outputs": [
    {
     "data": {
      "text/plain": [
       "vec2.fac\n",
       " Fri  Mon Thur  Tue  Wed \n",
       "   2    3    2    3    3 \n"
      ]
     },
     "metadata": {},
     "output_type": "display_data"
    }
   ],
   "source": [
    "%%R\n",
    "table(vec2.fac)"
   ]
  },
  {
   "cell_type": "markdown",
   "metadata": {},
   "source": [
    "## 1.9 Data frames"
   ]
  },
  {
   "cell_type": "markdown",
   "metadata": {},
   "source": [
    "Data frame in R is very similar to Table in Python. You can think data frame as a collection of vectors. Each vector contains an attribute of the data. They can be a mix of types of vectors (e.g. numbers and characters) and they are the main way to store data in R. Data frames can be manually created as shown in the following chunk. But usually, we would read them from `.csv` or `.txt` files. We will use examples of Tables from STAT 8 lab below. (LAB 3 and LAB 4).\n",
    "\n",
    "When not specified, the function `data.frame` will coerce all character variables to factors. If you want to keep the strings as character variables, you need to specify `stringsAsFactors = FALSE`."
   ]
  },
  {
   "cell_type": "code",
   "execution_count": 86,
   "metadata": {
    "collapsed": false
   },
   "outputs": [
    {
     "data": {
      "text/plain": [
       "    Votes Rating                           Title Year Decade\n",
       "1 1498733    9.2 The Shawshank Redemption (1994) 1994   1990\n",
       "2 1027398    9.2            The Godfather (1972) 1972   1970\n",
       "3  692753    9.0   The Godfather: Part II (1974) 1974   1970\n"
      ]
     },
     "metadata": {},
     "output_type": "display_data"
    }
   ],
   "source": [
    "%%R\n",
    "# Create a data frame.\n",
    "imdb <- data.frame(Votes = c(1498733, 1027398, 692753),\n",
    "                    Rating = c(9.2, 9.2, 9.0),\n",
    "                    Title = c('The Shawshank Redemption (1994)', 'The Godfather (1972)', \n",
    "                              'The Godfather: Part II (1974)'),\n",
    "                    Year = c(1994, 1972, 1974),\n",
    "                    Decade = c(1990, 1970, 1970), stringsAsFactors = FALSE)\n",
    "imdb"
   ]
  },
  {
   "cell_type": "code",
   "execution_count": 87,
   "metadata": {
    "collapsed": false
   },
   "outputs": [
    {
     "data": {
      "text/plain": [
       "[1] 3\n"
      ]
     },
     "metadata": {},
     "output_type": "display_data"
    }
   ],
   "source": [
    "%%R\n",
    "# Check the number of nows\n",
    "nrow(imdb)"
   ]
  },
  {
   "cell_type": "code",
   "execution_count": 88,
   "metadata": {
    "collapsed": false
   },
   "outputs": [
    {
     "data": {
      "text/plain": [
       "[1] 1994 1972 1974\n"
      ]
     },
     "metadata": {},
     "output_type": "display_data"
    }
   ],
   "source": [
    "%%R\n",
    "# Accessing columns\n",
    "imdb$Year\n",
    "imdb[, \"Year\"]"
   ]
  },
  {
   "cell_type": "code",
   "execution_count": 89,
   "metadata": {
    "collapsed": false
   },
   "outputs": [
    {
     "data": {
      "text/plain": [
       "    Votes Rating                Title Year Decade\n",
       "2 1027398    9.2 The Godfather (1972) 1972   1970\n"
      ]
     },
     "metadata": {},
     "output_type": "display_data"
    }
   ],
   "source": [
    "%%R\n",
    "# Accessing the second row in the data frame\n",
    "imdb[2, ]"
   ]
  },
  {
   "cell_type": "code",
   "execution_count": 90,
   "metadata": {
    "collapsed": false
   },
   "outputs": [
    {
     "data": {
      "text/plain": [
       "[1] \"The Godfather: Part II (1974)\"\n",
       "[1] \"The Godfather: Part II (1974)\"\n"
      ]
     },
     "metadata": {},
     "output_type": "display_data"
    }
   ],
   "source": [
    "%%R\n",
    "# Accessing elements: \n",
    "# Set third_movie_title to the title of the third movie in the imbd data frame.\n",
    "third_movie_title <- imdb$Title[3]\n",
    "print(third_movie_title)\n",
    "third_movie_title <- imdb[3, \"Title\"]\n",
    "print(third_movie_title)"
   ]
  },
  {
   "cell_type": "code",
   "execution_count": 91,
   "metadata": {
    "collapsed": false
   },
   "outputs": [
    {
     "data": {
      "text/plain": [
       "[1] 1972\n"
      ]
     },
     "metadata": {},
     "output_type": "display_data"
    }
   ],
   "source": [
    "%%R\n",
    "# Accessing elements: \n",
    "# Set oldest_year to the release year of the oldest movie in the imdb data frame.\n",
    "oldest_year <- min(imdb$Year)\n",
    "oldest_year"
   ]
  },
  {
   "cell_type": "code",
   "execution_count": 92,
   "metadata": {
    "collapsed": false
   },
   "outputs": [
    {
     "data": {
      "text/plain": [
       "    Votes Rating                           Title Year Decade\n",
       "1 1498733    9.2 The Shawshank Redemption (1994) 1994   1990\n",
       "2 1027398    9.2            The Godfather (1972) 1972   1970\n"
      ]
     },
     "metadata": {},
     "output_type": "display_data"
    }
   ],
   "source": [
    "%%R\n",
    "# Subset data frames:\n",
    "# Subset movies with rating greater than 9.0\n",
    "imdb[imdb$Rating > 9.0, ]"
   ]
  },
  {
   "cell_type": "code",
   "execution_count": 93,
   "metadata": {
    "collapsed": false
   },
   "outputs": [
    {
     "data": {
      "text/plain": [
       "    Votes Rating                           Title Year Decade\n",
       "1 1498733    9.2 The Shawshank Redemption (1994) 1994   1990\n"
      ]
     },
     "metadata": {},
     "output_type": "display_data"
    }
   ],
   "source": [
    "%%R\n",
    "# Subset data frames:\n",
    "# Subset movies in the 90's with rating greater than 9.0\n",
    "imdb[imdb$Rating > 9.0 & imdb$Decade == 1990, ]"
   ]
  },
  {
   "cell_type": "code",
   "execution_count": 94,
   "metadata": {
    "collapsed": false
   },
   "outputs": [
    {
     "data": {
      "text/plain": [
       "    Votes Rating                Title Year Decade\n",
       "2 1027398    9.2 The Godfather (1972) 1972   1970\n"
      ]
     },
     "metadata": {},
     "output_type": "display_data"
    }
   ],
   "source": [
    "%%R\n",
    "# Sort data frame:\n",
    "# Find the rating of the oldest movie. Store the value in oldest_rating.\n",
    "oldest_rating <- imdb[with(imdb, order(Year)), ][1, ]\n",
    "oldest_rating"
   ]
  },
  {
   "cell_type": "code",
   "execution_count": 95,
   "metadata": {
    "collapsed": false
   },
   "outputs": [
    {
     "data": {
      "text/plain": [
       "    Votes Rating                           Title Year Decade\n",
       "1 1498733    9.2 The Shawshank Redemption (1994) 1994   1990\n"
      ]
     },
     "metadata": {},
     "output_type": "display_data"
    }
   ],
   "source": [
    "%%R\n",
    "# Find the rating of the latest movie. \n",
    "imdb[with(imdb, order(-Year)), ][1, ]"
   ]
  },
  {
   "cell_type": "markdown",
   "metadata": {},
   "source": [
    "However, usually we do not create data frame manually by typing the information. We read data from text files or csv files."
   ]
  },
  {
   "cell_type": "code",
   "execution_count": 96,
   "metadata": {
    "collapsed": false
   },
   "outputs": [
    {
     "data": {
      "text/plain": [
       "      Screen.name Followers Friends\n",
       "1     LeoDiCaprio  14082200     142\n",
       "2     SteveCarell   4607580      48\n",
       "3     MarkRuffalo   2165110    1178\n",
       "4      amyschumer   3452330    1931\n",
       "5   TherealTaraji   3960390     702\n",
       "6      azizansari   9374070       0\n",
       "7 Racheldoesstuff     31996    3341\n",
       "8 IAMQUEENLATIFAH   6890940     458\n",
       "               Name     Screen.name Gender Medium\n",
       "1 Leonardo DiCaprio     LeoDiCaprio      M   Film\n",
       "2      Steve Carell     SteveCarell      M   Both\n",
       "3      Mark Ruffalo     MarkRuffalo      M   Film\n",
       "4       Amy Schumer      amyschumer      F   Both\n",
       "5  Taraji P. Henson   TherealTaraji      F   Both\n",
       "6       Aziz Ansari      azizansari      M     TV\n",
       "7      Rachel Bloom Racheldoesstuff      F     TV\n",
       "8     Queen Latifah IAMQUEENLATIFAH      F   Both\n"
      ]
     },
     "metadata": {},
     "output_type": "display_data"
    }
   ],
   "source": [
    "%%R\n",
    "# Read table from csv.\n",
    "follows = read.csv(\"twitter_follows.csv\")\n",
    "print(follows)\n",
    "info = read.csv(\"twitter_info.csv\")\n",
    "print(info)"
   ]
  },
  {
   "cell_type": "code",
   "execution_count": 97,
   "metadata": {
    "collapsed": false
   },
   "outputs": [
    {
     "data": {
      "text/plain": [
       "      Screen.name Followers Friends              Name Gender Medium\n",
       "1      amyschumer   3452330    1931       Amy Schumer      F   Both\n",
       "2      azizansari   9374070       0       Aziz Ansari      M     TV\n",
       "3 IAMQUEENLATIFAH   6890940     458     Queen Latifah      F   Both\n",
       "4     LeoDiCaprio  14082200     142 Leonardo DiCaprio      M   Film\n",
       "5     MarkRuffalo   2165110    1178      Mark Ruffalo      M   Film\n",
       "6 Racheldoesstuff     31996    3341      Rachel Bloom      F     TV\n",
       "7     SteveCarell   4607580      48      Steve Carell      M   Both\n",
       "8   TherealTaraji   3960390     702  Taraji P. Henson      F   Both\n"
      ]
     },
     "metadata": {},
     "output_type": "display_data"
    }
   ],
   "source": [
    "%%R\n",
    "# Join data frames.\n",
    "# join the data frame info and follows into one data frame called twitter\n",
    "twitter = merge(follows, info, by = \"Screen.name\")\n",
    "twitter"
   ]
  },
  {
   "cell_type": "markdown",
   "metadata": {},
   "source": [
    "** Exercise 4.** \n",
    "\n",
    "Working with the data frame `twitter`, complete the following questions.\n",
    "- a) Get the subset of the dataframe containing only the females. \n",
    "\n"
   ]
  },
  {
   "cell_type": "code",
   "execution_count": 98,
   "metadata": {
    "collapsed": false
   },
   "outputs": [
    {
     "data": {
      "text/plain": [
       "      Screen.name Followers Friends             Name Gender Medium\n",
       "1      amyschumer   3452330    1931      Amy Schumer      F   Both\n",
       "3 IAMQUEENLATIFAH   6890940     458    Queen Latifah      F   Both\n",
       "6 Racheldoesstuff     31996    3341     Rachel Bloom      F     TV\n",
       "8   TherealTaraji   3960390     702 Taraji P. Henson      F   Both\n"
      ]
     },
     "metadata": {},
     "output_type": "display_data"
    }
   ],
   "source": [
    "%%R\n",
    "df.a <- ...\n",
    "df.a"
   ]
  },
  {
   "cell_type": "markdown",
   "metadata": {},
   "source": [
    "- b) Get the subset of the dataframe with people whose follower number greater than 5,000,000."
   ]
  },
  {
   "cell_type": "code",
   "execution_count": 99,
   "metadata": {
    "collapsed": false
   },
   "outputs": [
    {
     "data": {
      "text/plain": [
       "      Screen.name Followers Friends              Name Gender Medium\n",
       "2      azizansari   9374070       0       Aziz Ansari      M     TV\n",
       "3 IAMQUEENLATIFAH   6890940     458     Queen Latifah      F   Both\n",
       "4     LeoDiCaprio  14082200     142 Leonardo DiCaprio      M   Film\n"
      ]
     },
     "metadata": {},
     "output_type": "display_data"
    }
   ],
   "source": [
    "%%R\n",
    "df.b <- ...\n",
    "df.b"
   ]
  },
  {
   "cell_type": "markdown",
   "metadata": {},
   "source": [
    "- c) How many friends does Leonardo DiCaprio have?"
   ]
  },
  {
   "cell_type": "code",
   "execution_count": 100,
   "metadata": {
    "collapsed": false
   },
   "outputs": [
    {
     "data": {
      "text/plain": [
       "[1] 142\n"
      ]
     },
     "metadata": {},
     "output_type": "display_data"
    }
   ],
   "source": [
    "%%R\n",
    "no.friends <- ...\n",
    "no.friends"
   ]
  },
  {
   "cell_type": "markdown",
   "metadata": {},
   "source": [
    "- d) Find the entries with the top 3 followers number."
   ]
  },
  {
   "cell_type": "code",
   "execution_count": 101,
   "metadata": {
    "collapsed": false
   },
   "outputs": [
    {
     "data": {
      "text/plain": [
       "      Screen.name Followers Friends              Name Gender Medium\n",
       "4     LeoDiCaprio  14082200     142 Leonardo DiCaprio      M   Film\n",
       "2      azizansari   9374070       0       Aziz Ansari      M     TV\n",
       "3 IAMQUEENLATIFAH   6890940     458     Queen Latifah      F   Both\n"
      ]
     },
     "metadata": {},
     "output_type": "display_data"
    }
   ],
   "source": [
    "%%R\n",
    "top3 <- ...\n",
    "top3"
   ]
  },
  {
   "cell_type": "markdown",
   "metadata": {},
   "source": [
    "Run the cell blow to check your code.\n",
    "\n",
    "About the output: Dots shows that your code have passed the tests. \"F\" indicates test failure, and you might need to correct some errors in your code."
   ]
  },
  {
   "cell_type": "code",
   "execution_count": 102,
   "metadata": {
    "collapsed": false
   },
   "outputs": [
    {
     "data": {
      "text/plain": [
       "a: \u001b[32m.\u001b[39m\u001b[32m.\u001b[39m\u001b[32m.\u001b[39m\n",
       "b: \u001b[32m.\u001b[39m\u001b[32m.\u001b[39m\u001b[32m.\u001b[39m\n",
       "c: \u001b[32m.\u001b[39m\n",
       "d: \u001b[32m.\u001b[39m\u001b[32m.\u001b[39m\n"
      ]
     },
     "metadata": {},
     "output_type": "display_data"
    }
   ],
   "source": [
    "%%R\n",
    "test_dir(\"test/q4/\", reporter=\"minimal\")"
   ]
  },
  {
   "cell_type": "markdown",
   "metadata": {},
   "source": [
    "## 1.10 For loops"
   ]
  },
  {
   "cell_type": "code",
   "execution_count": 103,
   "metadata": {
    "collapsed": false
   },
   "outputs": [
    {
     "data": {
      "text/plain": [
       "[1] 55\n",
       "[1] 3628800\n"
      ]
     },
     "metadata": {},
     "output_type": "display_data"
    }
   ],
   "source": [
    "%%R\n",
    "sum_10 = 0\n",
    "prod_10 = 1\n",
    "for (i in 1:10){\n",
    "    sum_10 = sum_10 + i\n",
    "    prod_10 = prod_10 * i\n",
    "}\n",
    "\n",
    "print(sum_10)\n",
    "print(prod_10)"
   ]
  },
  {
   "cell_type": "markdown",
   "metadata": {},
   "source": [
    "A comparison: For loops in Python. \n",
    "\n",
    "In Python, identation is used to indicate the code blocks while in R we use curly bracket for blocks of code."
   ]
  },
  {
   "cell_type": "code",
   "execution_count": 104,
   "metadata": {
    "collapsed": false
   },
   "outputs": [
    {
     "name": "stdout",
     "output_type": "stream",
     "text": [
      "55\n",
      "3628800\n"
     ]
    }
   ],
   "source": [
    "sum_10 = 0\n",
    "prod_10 = 1\n",
    "for i in range(1,11):\n",
    "    sum_10 = sum_10 + i\n",
    "    prod_10 = prod_10 * i\n",
    "\n",
    "print(sum_10)\n",
    "print(prod_10)"
   ]
  },
  {
   "cell_type": "markdown",
   "metadata": {},
   "source": [
    "## 1.11 Functions"
   ]
  },
  {
   "cell_type": "code",
   "execution_count": 105,
   "metadata": {
    "collapsed": false
   },
   "outputs": [
    {
     "data": {
      "text/plain": [
       "[1] 4\n"
      ]
     },
     "metadata": {},
     "output_type": "display_data"
    }
   ],
   "source": [
    "%%R\n",
    "# Function with a return statement\n",
    "nothing <- function(){\n",
    "    x = 4\n",
    "    return(x)  \n",
    "}\n",
    "\n",
    "nothing()"
   ]
  },
  {
   "cell_type": "code",
   "execution_count": 106,
   "metadata": {
    "collapsed": false
   },
   "outputs": [
    {
     "data": {
      "text/plain": [
       "[1] 2\n"
      ]
     },
     "metadata": {},
     "output_type": "display_data"
    }
   ],
   "source": [
    "%%R\n",
    "# Function without a return statement\n",
    "returns_nothing <- function(){\n",
    "    x = 2\n",
    "    print(x)\n",
    "}\n",
    "\n",
    "returns_nothing()"
   ]
  },
  {
   "cell_type": "markdown",
   "metadata": {},
   "source": [
    "A comparison: Function in Python."
   ]
  },
  {
   "cell_type": "code",
   "execution_count": 107,
   "metadata": {
    "collapsed": false
   },
   "outputs": [
    {
     "name": "stdout",
     "output_type": "stream",
     "text": [
      "2\n"
     ]
    }
   ],
   "source": [
    "# Function with a return statement\n",
    "def nothing():\n",
    "    x = 4\n",
    "    return x\n",
    "\n",
    "x = nothing()\n",
    "\n",
    "# Function without a return statement\n",
    "def returns_nothing():\n",
    "    x = 2\n",
    "    print(x)\n",
    "\n",
    "returns_nothing()"
   ]
  },
  {
   "cell_type": "markdown",
   "metadata": {},
   "source": [
    "** Exercise 5**\n",
    "\n",
    "Write a function `calc.norm` to calculate the density of normal distribution, and there should be arguments `mu`, `sig.sq`, `x`. Using your function to calculate the results for Exercise 1."
   ]
  },
  {
   "cell_type": "code",
   "execution_count": 108,
   "metadata": {
    "collapsed": false
   },
   "outputs": [],
   "source": [
    "%%R\n",
    "calc.norm <- function(mu, sig.sq, x){\n",
    "    ...\n",
    "}"
   ]
  },
  {
   "cell_type": "code",
   "execution_count": 109,
   "metadata": {
    "collapsed": false
   },
   "outputs": [
    {
     "data": {
      "text/plain": [
       "[1] 0.2196956\n"
      ]
     },
     "metadata": {},
     "output_type": "display_data"
    }
   ],
   "source": [
    "%%R\n",
    "exercise.1 = calc.norm(1, 2, 0)\n",
    "exercise.1"
   ]
  },
  {
   "cell_type": "code",
   "execution_count": 110,
   "metadata": {
    "collapsed": false
   },
   "outputs": [
    {
     "data": {
      "text/plain": [
       "[1] 0.3989423\n"
      ]
     },
     "metadata": {},
     "output_type": "display_data"
    }
   ],
   "source": [
    "%%R\n",
    "calc.norm(0, 1, 0)"
   ]
  },
  {
   "cell_type": "markdown",
   "metadata": {},
   "source": [
    "Run the cell blow to check your code.\n",
    "\n",
    "About the output: Dots shows that your code have passed the tests. \"F\" indicates test failure, and you might need to correct some errors in your code."
   ]
  },
  {
   "cell_type": "code",
   "execution_count": 111,
   "metadata": {
    "collapsed": false
   },
   "outputs": [
    {
     "data": {
      "text/plain": [
       "\u001b[32m.\u001b[39m\u001b[32m.\u001b[39m\u001b[32m.\u001b[39m\n"
      ]
     },
     "metadata": {},
     "output_type": "display_data"
    }
   ],
   "source": [
    "%%R\n",
    "test_dir(\"test/q5/\", reporter=\"minimal\")"
   ]
  },
  {
   "cell_type": "markdown",
   "metadata": {},
   "source": [
    "## 1.12 Reference:"
   ]
  },
  {
   "cell_type": "markdown",
   "metadata": {},
   "source": [
    "- [An Introduction to R](https://cran.r-project.org/doc/manuals/r-release/R-intro.html)\n",
    "\n",
    "- A good resource of R introduction from [Berkeley SCF](https://github.com/berkeley-scf/r-bootcamp-2016)  (Statistics Computing Facility).\n",
    "\n",
    "- [A comparison of R and Python commands](http://mathesaurus.sourceforge.net/matlab-python-xref.pdf)\n",
    "\n",
    "- [R tutorials from Prof. Elizabrth Purdom](http://www.stat.berkeley.edu/~epurdom/studentResources.html#RTutor)"
   ]
  },
  {
   "cell_type": "markdown",
   "metadata": {},
   "source": [
    "# PART II: Basic exploratory analysis and summary plots"
   ]
  },
  {
   "cell_type": "markdown",
   "metadata": {},
   "source": [
    "This part helps you to do some exploratory analysis in R. The dataset comes from lab 12 in Data Science 8. "
   ]
  },
  {
   "cell_type": "markdown",
   "metadata": {},
   "source": [
    "## 2.1 Data"
   ]
  },
  {
   "cell_type": "markdown",
   "metadata": {},
   "source": [
    "Recall the two-person heterosexual relationship dataset used in STAT 8 lectures and lab 12. The rows describe individual people who all participate in a two-person heterosexual relationship. The columns describe:\n",
    "\n",
    "- ID: An identifier for each couple\n",
    "- Gender: The self-reported sex of each individual\n",
    "- Marital Status: Whether the person is married to the individual with the same ID\n",
    "- Relationship Rating: How satisfied is the person with her/his relationship? 1 is most satisfied; 5 is least satisfied\n",
    "- Age: Age in years\n",
    "- Education: Self-reported highest level of education achieved\n",
    "- Household Income: Self-reported household income in a range of dollars\n",
    "- Employment Status: Employment situation at the time the survey was collected"
   ]
  },
  {
   "cell_type": "markdown",
   "metadata": {},
   "source": [
    "Now we read data from couples.csv into a data frame called couples. Here `header=TRUE` specifies that this data includes a header row. Note that `read.csv` convert all strings to factors just like `data.frame`. If you need to keep the strings, add argument `stringsAsFactors = FALSE`."
   ]
  },
  {
   "cell_type": "code",
   "execution_count": 112,
   "metadata": {
    "collapsed": false,
    "scrolled": true
   },
   "outputs": [],
   "source": [
    "%%R\n",
    "# Read data \n",
    "couples <- read.csv('couples.csv', header = TRUE)"
   ]
  },
  {
   "cell_type": "code",
   "execution_count": 113,
   "metadata": {
    "collapsed": false
   },
   "outputs": [
    {
     "data": {
      "text/plain": [
       "[1] \"ID\"                  \"Gender\"              \"Marital.Status\"     \n",
       "[4] \"Relationship.Rating\" \"Age\"                 \"Education\"          \n",
       "[7] \"Household.Income\"    \"Employment.Status\"  \n"
      ]
     },
     "metadata": {},
     "output_type": "display_data"
    }
   ],
   "source": [
    "%%R\n",
    "# print column names\n",
    "colnames(couples)"
   ]
  },
  {
   "cell_type": "markdown",
   "metadata": {},
   "source": [
    "** Exercise 6.**\n",
    "\n",
    "How many individuals are there in the dataset?"
   ]
  },
  {
   "cell_type": "code",
   "execution_count": 114,
   "metadata": {
    "collapsed": false
   },
   "outputs": [
    {
     "data": {
      "text/plain": [
       "[1] 2066\n"
      ]
     },
     "metadata": {},
     "output_type": "display_data"
    }
   ],
   "source": [
    "%%R\n",
    "# number of individuals\n",
    "no.individuals = ...\n",
    "no.individuals"
   ]
  },
  {
   "cell_type": "markdown",
   "metadata": {},
   "source": [
    "Run the cell blow to check your code.\n",
    "\n",
    "About the output: Dots shows that your code have passed the tests. \"F\" indicates test failure, and you might need to correct some errors in your code."
   ]
  },
  {
   "cell_type": "code",
   "execution_count": 115,
   "metadata": {
    "collapsed": false
   },
   "outputs": [
    {
     "data": {
      "text/plain": [
       "\u001b[32m.\u001b[39m\n"
      ]
     },
     "metadata": {},
     "output_type": "display_data"
    }
   ],
   "source": [
    "%%R\n",
    "test_dir(\"test/q6/\", reporter=\"minimal\")"
   ]
  },
  {
   "cell_type": "code",
   "execution_count": 116,
   "metadata": {
    "collapsed": false
   },
   "outputs": [
    {
     "data": {
      "text/plain": [
       "[1] \"Number of unique ID values: 1033\"\n",
       "[1] \"Number of unique Gender values: 2\"\n",
       "[1] \"Number of unique Marital.Status values: 2\"\n",
       "[1] \"Number of unique Relationship.Rating values: 5\"\n",
       "[1] \"Number of unique Age values: 47\"\n",
       "[1] \"Number of unique Education values: 13\"\n",
       "[1] \"Number of unique Household.Income values: 20\"\n",
       "[1] \"Number of unique Employment.Status values: 7\"\n"
      ]
     },
     "metadata": {},
     "output_type": "display_data"
    }
   ],
   "source": [
    "%%R\n",
    "# calculate number of unique values in each variable of dataset.\n",
    "for (col in colnames(couples)){\n",
    "  print( paste(\"Number of unique\", col, \"values:\", \n",
    "               length(unique(couples[, col])) ) )\n",
    "}"
   ]
  },
  {
   "cell_type": "markdown",
   "metadata": {},
   "source": [
    "## 2.2 Contingency table and bar plots"
   ]
  },
  {
   "cell_type": "markdown",
   "metadata": {},
   "source": [
    "Now we want to know how many female and male rate the score 1 to 5 separately, which means we need the following contingency table as you have seen in Data 8.\n",
    "\n",
    " | 1 | 2 | 3 | 4 | 5 |\n",
    "------------- |:-------------:| -----:|\n",
    "female | a |  |  |  |\n",
    "male   |  |  |  |  |\n",
    "\n",
    "For example, `a` would be the number of the female who rate `1`.\n",
    "\n",
    "In R, `table` is a very basic function to create such tabular results for categorical variables. We could use it to summarize a vector of categorical variables, as in the factor section. For example, to count the number of female and male:"
   ]
  },
  {
   "cell_type": "code",
   "execution_count": 117,
   "metadata": {
    "collapsed": false
   },
   "outputs": [
    {
     "data": {
      "text/plain": [
       "\n",
       "female   male \n",
       "  1033   1033 \n"
      ]
     },
     "metadata": {},
     "output_type": "display_data"
    }
   ],
   "source": [
    "%%R\n",
    "table(couples$Gender)"
   ]
  },
  {
   "cell_type": "markdown",
   "metadata": {},
   "source": [
    "When it takes two vectors as input and among them at least one can be interpreted as factor, we get the contingency table as we desired above."
   ]
  },
  {
   "cell_type": "code",
   "execution_count": 118,
   "metadata": {
    "collapsed": false
   },
   "outputs": [
    {
     "data": {
      "text/plain": [
       "        \n",
       "           1   2   3   4   5\n",
       "  female 633 318  34  32  16\n",
       "  male   680 284  31  33   5\n"
      ]
     },
     "metadata": {},
     "output_type": "display_data"
    }
   ],
   "source": [
    "%%R\n",
    "ratings_by_gender <- table(couples$Gender, couples$Relationship.Rating)\n",
    "ratings_by_gender"
   ]
  },
  {
   "cell_type": "markdown",
   "metadata": {},
   "source": [
    "Visualize using bar plot. "
   ]
  },
  {
   "cell_type": "code",
   "execution_count": 119,
   "metadata": {
    "collapsed": false
   },
   "outputs": [
    {
     "data": {
      "image/png": "[encoded data removed]"
     },
     "metadata": {},
     "output_type": "display_data"
    }
   ],
   "source": [
    "%%R\n",
    "barplot(ratings_by_gender, \n",
    "        main=\"Rating by Gender\", # Title of the plot\n",
    "        xlab=\"Rating\", # x axis label\n",
    "        col=c(\"darkblue\",\"red\"), # specify color\n",
    "        legend = rownames(ratings_by_gender), # lengend\n",
    "        beside=TRUE)"
   ]
  },
  {
   "cell_type": "markdown",
   "metadata": {},
   "source": [
    "When accepting only the data as an argument, we get the following plot:"
   ]
  },
  {
   "cell_type": "code",
   "execution_count": 120,
   "metadata": {
    "collapsed": false
   },
   "outputs": [
    {
     "data": {
      "image/png": "[encoded data removed]"
     },
     "metadata": {},
     "output_type": "display_data"
    }
   ],
   "source": [
    "%%R\n",
    "barplot(ratings_by_gender)"
   ]
  },
  {
   "cell_type": "markdown",
   "metadata": {},
   "source": [
    "The additional parameters of function `barplot` are used frequently in plots. You will see them in other plot functions such as `hist` for histogram in the next subsection."
   ]
  },
  {
   "cell_type": "markdown",
   "metadata": {},
   "source": [
    "- `main`: Title of the plot.\n",
    "- `xlab`/`ylab`: x/y axis label.\n",
    "- `col`: plot color, the usuage of this variable may vary for different plot functions. Here the two color corresponds to female and male.\n",
    "- `xlim`/`ylim`: the limits (starting and ending values) for the x/y axis.\n",
    "- `legend`: the legend of the plot, the usuage of this variable may vary for different plot functions. Here specified by a vector."
   ]
  },
  {
   "cell_type": "markdown",
   "metadata": {},
   "source": [
    "Note that for different plot functions, the parameters may vary depending on the suppose of the plot. It is always useful to check the help document."
   ]
  },
  {
   "cell_type": "markdown",
   "metadata": {},
   "source": [
    "** Exercise 7. **\n",
    "\n",
    "Write a function ```proportions``` that takes a table and a vector of labels for columns containing counts. It returns a table with the same number of columns and rows, but with counts replaced by proportions and formatted as percentages for each count_label."
   ]
  },
  {
   "cell_type": "code",
   "execution_count": 129,
   "metadata": {
    "collapsed": false
   },
   "outputs": [],
   "source": [
    "%%R\n",
    "proportions <- function(table, count_labels){\n",
    "  for (label in count_labels){\n",
    "      ...\n",
    "  }\n",
    "  return(table)\n",
    "}"
   ]
  },
  {
   "cell_type": "code",
   "execution_count": 122,
   "metadata": {
    "collapsed": false
   },
   "outputs": [
    {
     "data": {
      "text/plain": [
       "        \n",
       "                   1           2           3           4           5\n",
       "  female 0.612778316 0.307841239 0.032913843 0.030977735 0.015488867\n",
       "  male   0.658276864 0.274927396 0.030009681 0.031945789 0.004840271\n"
      ]
     },
     "metadata": {},
     "output_type": "display_data"
    }
   ],
   "source": [
    "%%R\n",
    "proportion.table = proportions(ratings_by_gender, c('female', 'male'))\n",
    "proportion.table"
   ]
  },
  {
   "cell_type": "markdown",
   "metadata": {},
   "source": [
    "Run the cell blow to check your code.\n",
    "\n",
    "About the output: Dots shows that your code have passed the tests. \"F\" indicates test failure, and you might need to correct some errors in your code.\n"
   ]
  },
  {
   "cell_type": "code",
   "execution_count": 123,
   "metadata": {
    "collapsed": false
   },
   "outputs": [
    {
     "data": {
      "text/plain": [
       "\u001b[32m.\u001b[39m\u001b[32m.\u001b[39m\u001b[32m.\u001b[39m\n"
      ]
     },
     "metadata": {},
     "output_type": "display_data"
    }
   ],
   "source": [
    "%%R\n",
    "test_dir(\"test/q7/\", reporter=\"minimal\")"
   ]
  },
  {
   "cell_type": "markdown",
   "metadata": {},
   "source": [
    "** Exercise 8.**\n",
    "Visualize the `proportion.table` using bar plot."
   ]
  },
  {
   "cell_type": "code",
   "execution_count": 124,
   "metadata": {
    "collapsed": false
   },
   "outputs": [
    {
     "data": {
      "image/png": "[encoded data removed]"
     },
     "metadata": {},
     "output_type": "display_data"
    }
   ],
   "source": [
    "%%R\n",
    "..."
   ]
  },
  {
   "cell_type": "markdown",
   "metadata": {},
   "source": [
    "## 2.3 Histograms"
   ]
  },
  {
   "cell_type": "markdown",
   "metadata": {},
   "source": [
    "The baby data set contains data on a random sample of 1,174 mothers and their newborn babies. The column ```birthwt``` contains the birth weight of the baby, in ounces; ```gest_days``` is the number of gestational days, that is, the number of days the baby was in the womb. There is also data on maternal age, maternal height, maternal pregnancy weight, and whether or not the mother was a smoker."
   ]
  },
  {
   "cell_type": "code",
   "execution_count": 125,
   "metadata": {
    "collapsed": false
   },
   "outputs": [],
   "source": [
    "%%R\n",
    "baby <- read.csv('baby.csv', header = TRUE)"
   ]
  },
  {
   "cell_type": "markdown",
   "metadata": {},
   "source": [
    "The histogram below displays the distribution of birth weights, in ounces."
   ]
  },
  {
   "cell_type": "code",
   "execution_count": 126,
   "metadata": {
    "collapsed": false
   },
   "outputs": [
    {
     "data": {
      "image/png": "[encoded data removed]"
     },
     "metadata": {},
     "output_type": "display_data"
    }
   ],
   "source": [
    "%%R\n",
    "# birth weights of babies\n",
    "hist(baby$Birth.Weight, \n",
    "     col=c(\"darkblue\"), # histogram color\n",
    "     main = \"Birth weights of babies\",# plot titile\n",
    "     xlab = \"Birth weights (in ounces)\", # x axis lable\n",
    "     xlim = c(40, 180)) # x axis range"
   ]
  },
  {
   "cell_type": "markdown",
   "metadata": {},
   "source": [
    "** Exercise 9.** Plot the birth weights of the babies of the smokers."
   ]
  },
  {
   "cell_type": "code",
   "execution_count": 127,
   "metadata": {
    "collapsed": false
   },
   "outputs": [
    {
     "data": {
      "image/png": "[encoded data removed]"
     },
     "metadata": {},
     "output_type": "display_data"
    }
   ],
   "source": [
    "%%R\n",
    "..."
   ]
  },
  {
   "cell_type": "markdown",
   "metadata": {},
   "source": [
    "Please run the following chunk to finish this lab."
   ]
  },
  {
   "cell_type": "code",
   "execution_count": 128,
   "metadata": {
    "collapsed": false
   },
   "outputs": [],
   "source": [
    "%%R\n",
    "source(\"grading.R\")"
   ]
  },
  {
   "cell_type": "code",
   "execution_count": null,
   "metadata": {
    "collapsed": true
   },
   "outputs": [],
   "source": []
  }
 ],
 "metadata": {
  "anaconda-cloud": {},
  "kernelspec": {
   "display_name": "Python 3",
   "language": "python",
   "name": "python3"
  },
  "language_info": {
   "codemirror_mode": {
    "name": "ipython",
    "version": 3
   },
   "file_extension": ".py",
   "mimetype": "text/x-python",
   "name": "python",
   "nbconvert_exporter": "python",
   "pygments_lexer": "ipython3",
   "version": "3.5.1"
  }
 },
 "nbformat": 4,
 "nbformat_minor": 1
}
